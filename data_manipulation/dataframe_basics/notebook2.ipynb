{
 "cells": [
  {
   "cell_type": "code",
   "execution_count": 1,
   "metadata": {},
   "outputs": [
    {
     "name": "stdout",
     "output_type": "stream",
     "text": [
      "        day  Temperature\n",
      "0  1/1/2017           32\n",
      "1  1/2/2017           35\n",
      "2  1/3/2017           28\n",
      "3  1/4/2017           24\n",
      "4  1/5/2017           32\n",
      "5  1/6/2017           31\n"
     ]
    }
   ],
   "source": [
    "#dataframe basics\n",
    "\n",
    "import pandas as pd\n",
    "\n",
    "#dictionary to dataframe\n",
    "d1 = {'day': ['1/1/2017', '1/2/2017', '1/3/2017', '1/4/2017', '1/5/2017', '1/6/2017'], 'Temperature': [32,35,28,24,32,31]}\n",
    "\n",
    "df2 = pd.DataFrame(d1)\n",
    "print(df2)"
   ]
  },
  {
   "cell_type": "code",
   "execution_count": 2,
   "metadata": {},
   "outputs": [
    {
     "name": "stdout",
     "output_type": "stream",
     "text": [
      "        day  temperature  windspeed  event\n",
      "0  1/1/2017           32          6   Rain\n",
      "1  1/2/2017           35          7  Sunny\n",
      "2  1/3/2017           28          2   Snow\n",
      "3  1/4/2017           24          7   Snow\n",
      "4  1/5/2017           32          4   Rain\n",
      "5  1/6/2017           31          2  Sunny\n"
     ]
    }
   ],
   "source": [
    "df = pd.read_csv('weather_data.csv')\n",
    "print(df)\n"
   ]
  },
  {
   "cell_type": "code",
   "execution_count": 3,
   "metadata": {},
   "outputs": [
    {
     "name": "stdout",
     "output_type": "stream",
     "text": [
      "6\n",
      "4\n"
     ]
    }
   ],
   "source": [
    "rows, column = df.shape #return a tuple of rows and column\n",
    "print(rows)\n",
    "print(column)"
   ]
  },
  {
   "cell_type": "code",
   "execution_count": 4,
   "metadata": {},
   "outputs": [
    {
     "name": "stdout",
     "output_type": "stream",
     "text": [
      "        day  temperature  windspeed  event\n",
      "0  1/1/2017           32          6   Rain\n",
      "1  1/2/2017           35          7  Sunny\n",
      "2  1/3/2017           28          2   Snow\n",
      "3  1/4/2017           24          7   Snow\n",
      "4  1/5/2017           32          4   Rain\n",
      "        day  temperature  windspeed  event\n",
      "0  1/1/2017           32          6   Rain\n",
      "1  1/2/2017           35          7  Sunny\n",
      "2  1/3/2017           28          2   Snow\n"
     ]
    }
   ],
   "source": [
    "print(df.head())\n",
    "print(df.head(3)) #print first 3 rows"
   ]
  },
  {
   "cell_type": "code",
   "execution_count": 5,
   "metadata": {},
   "outputs": [
    {
     "name": "stdout",
     "output_type": "stream",
     "text": [
      "        day  temperature  windspeed  event\n",
      "1  1/2/2017           35          7  Sunny\n",
      "2  1/3/2017           28          2   Snow\n",
      "3  1/4/2017           24          7   Snow\n",
      "4  1/5/2017           32          4   Rain\n",
      "5  1/6/2017           31          2  Sunny\n",
      "        day  temperature  windspeed  event\n",
      "4  1/5/2017           32          4   Rain\n",
      "5  1/6/2017           31          2  Sunny\n"
     ]
    }
   ],
   "source": [
    "print(df.tail())\n",
    "print(df.tail(2)) # print last two rows"
   ]
  },
  {
   "cell_type": "code",
   "execution_count": 6,
   "metadata": {},
   "outputs": [
    {
     "name": "stdout",
     "output_type": "stream",
     "text": [
      "        day  temperature  windspeed event\n",
      "2  1/3/2017           28          2  Snow\n",
      "3  1/4/2017           24          7  Snow\n",
      "4  1/5/2017           32          4  Rain\n",
      "\n",
      "        day  temperature  windspeed event\n",
      "0  1/1/2017           32          6  Rain\n",
      "2  1/3/2017           28          2  Snow\n",
      "4  1/5/2017           32          4  Rain\n"
     ]
    }
   ],
   "source": [
    "#datafram slicing\n",
    "\n",
    "print(df[2:5]) #print rows from 2 to 4\n",
    "print()\n",
    "print(df[::2]) #print rows from 0 to end with step 2 "
   ]
  },
  {
   "cell_type": "code",
   "execution_count": 7,
   "metadata": {},
   "outputs": [
    {
     "data": {
      "text/plain": [
       "Index(['day', 'temperature', 'windspeed', 'event'], dtype='object')"
      ]
     },
     "execution_count": 7,
     "metadata": {},
     "output_type": "execute_result"
    }
   ],
   "source": [
    "df.columns #print columns"
   ]
  },
  {
   "cell_type": "code",
   "execution_count": 8,
   "metadata": {},
   "outputs": [
    {
     "data": {
      "text/plain": [
       "0    1/1/2017\n",
       "1    1/2/2017\n",
       "2    1/3/2017\n",
       "3    1/4/2017\n",
       "4    1/5/2017\n",
       "5    1/6/2017\n",
       "Name: day, dtype: object"
      ]
     },
     "execution_count": 8,
     "metadata": {},
     "output_type": "execute_result"
    }
   ],
   "source": [
    "df.day #print individual columns by their name"
   ]
  },
  {
   "cell_type": "code",
   "execution_count": 9,
   "metadata": {},
   "outputs": [
    {
     "data": {
      "text/plain": [
       "pandas.core.frame.DataFrame"
      ]
     },
     "execution_count": 9,
     "metadata": {},
     "output_type": "execute_result"
    }
   ],
   "source": [
    "type(df)"
   ]
  },
  {
   "cell_type": "code",
   "execution_count": 10,
   "metadata": {},
   "outputs": [
    {
     "name": "stdout",
     "output_type": "stream",
     "text": [
      "   event       day\n",
      "0   Rain  1/1/2017\n",
      "1  Sunny  1/2/2017\n",
      "2   Snow  1/3/2017\n",
      "3   Snow  1/4/2017\n",
      "4   Rain  1/5/2017\n",
      "5  Sunny  1/6/2017\n"
     ]
    }
   ],
   "source": [
    "print(df[['event', 'day']])"
   ]
  },
  {
   "cell_type": "code",
   "execution_count": 11,
   "metadata": {},
   "outputs": [
    {
     "name": "stdout",
     "output_type": "stream",
     "text": [
      "35\n"
     ]
    }
   ],
   "source": [
    "print(df['temperature'].max())"
   ]
  },
  {
   "cell_type": "code",
   "execution_count": 12,
   "metadata": {},
   "outputs": [
    {
     "name": "stdout",
     "output_type": "stream",
     "text": [
      "describe(): \n",
      "       temperature  windspeed\n",
      "count     6.000000   6.000000\n",
      "mean     30.333333   4.666667\n",
      "std       3.829708   2.338090\n",
      "min      24.000000   2.000000\n",
      "25%      28.750000   2.500000\n",
      "50%      31.500000   5.000000\n",
      "75%      32.000000   6.750000\n",
      "max      35.000000   7.000000\n",
      "\n",
      "info()\n",
      "<class 'pandas.core.frame.DataFrame'>\n",
      "RangeIndex: 6 entries, 0 to 5\n",
      "Data columns (total 4 columns):\n",
      " #   Column       Non-Null Count  Dtype \n",
      "---  ------       --------------  ----- \n",
      " 0   day          6 non-null      object\n",
      " 1   temperature  6 non-null      int64 \n",
      " 2   windspeed    6 non-null      int64 \n",
      " 3   event        6 non-null      object\n",
      "dtypes: int64(2), object(2)\n",
      "memory usage: 324.0+ bytes\n",
      "None\n"
     ]
    }
   ],
   "source": [
    "print(\"describe(): \")\n",
    "print(df.describe())\n",
    "print()\n",
    "print(\"info()\")\n",
    "print(df.info())"
   ]
  },
  {
   "cell_type": "code",
   "execution_count": 13,
   "metadata": {},
   "outputs": [
    {
     "name": "stdout",
     "output_type": "stream",
     "text": [
      "        day  temperature  windspeed  event\n",
      "0  1/1/2017           32          6   Rain\n",
      "1  1/2/2017           35          7  Sunny\n",
      "4  1/5/2017           32          4   Rain\n",
      "5  1/6/2017           31          2  Sunny\n"
     ]
    }
   ],
   "source": [
    "#conditional selection of data\n",
    "\n",
    "print(df[df['temperature'] >=31])"
   ]
  },
  {
   "cell_type": "code",
   "execution_count": 14,
   "metadata": {},
   "outputs": [
    {
     "name": "stdout",
     "output_type": "stream",
     "text": [
      "        day  event  temperature\n",
      "1  1/2/2017  Sunny           35\n"
     ]
    }
   ],
   "source": [
    "# print the day, event and temperature where temparature is maximum\n",
    "\n",
    "print(df[['day','event','temperature']][df['temperature']== df['temperature'].max()])"
   ]
  },
  {
   "cell_type": "code",
   "execution_count": 15,
   "metadata": {},
   "outputs": [
    {
     "name": "stdout",
     "output_type": "stream",
     "text": [
      "sum=  182\n",
      "mean=  30.333333333333332\n",
      "max=  35\n",
      "max=  35\n",
      "min=  24\n",
      "min=  24\n",
      "count=  6\n",
      "Standard Deviation=  3.8297084310253524\n"
     ]
    }
   ],
   "source": [
    "# Aggregate functions\n",
    "print(\"sum= \",df['temperature'].sum())\n",
    "print(\"mean= \",df['temperature'].mean())\n",
    "print(\"max= \",df['temperature'].max())\n",
    "print(\"max= \",df['temperature'].max())\n",
    "print(\"min= \",df['temperature'].min())\n",
    "print(\"min= \",df['temperature'].min())\n",
    "print(\"count= \",df['temperature'].count())\n",
    "print(\"Standard Deviation= \",df['temperature'].std())"
   ]
  },
  {
   "cell_type": "code",
   "execution_count": 16,
   "metadata": {},
   "outputs": [
    {
     "name": "stdout",
     "output_type": "stream",
     "text": [
      "        day  temperature  windspeed  event\n",
      "0  1/1/2017           32          6   Rain\n",
      "1  1/2/2017           35          7  Sunny\n",
      "2  1/3/2017           28          2   Snow\n",
      "3  1/4/2017           24          7   Snow\n",
      "4  1/5/2017           32          4   Rain\n",
      "5  1/6/2017           31          2  Sunny\n"
     ]
    }
   ],
   "source": [
    "df2 = df.copy()\n",
    "print(df2)"
   ]
  },
  {
   "cell_type": "code",
   "execution_count": 17,
   "metadata": {},
   "outputs": [
    {
     "name": "stdout",
     "output_type": "stream",
     "text": [
      "<NumpyExtensionArray>\n",
      "[1, 2, 3]\n",
      "Length: 3, dtype: int64\n"
     ]
    }
   ],
   "source": [
    "df2 = pd.Series([1,2,3]).array\n",
    "print(df2)"
   ]
  },
  {
   "cell_type": "markdown",
   "metadata": {},
   "source": [
    "## Pandas Documentation\n",
    "<a href=\"https://pandas.pydata.org/docs/reference/index.html#api\" target=\"_blank\">Click here </a>"
   ]
  },
  {
   "cell_type": "code",
   "execution_count": 18,
   "metadata": {},
   "outputs": [
    {
     "name": "stdout",
     "output_type": "stream",
     "text": [
      "          temperature  windspeed  event\n",
      "day                                    \n",
      "1/1/2017           32          6   Rain\n",
      "1/2/2017           35          7  Sunny\n",
      "1/3/2017           28          2   Snow\n",
      "1/4/2017           24          7   Snow\n",
      "1/5/2017           32          4   Rain\n",
      "1/6/2017           31          2  Sunny\n"
     ]
    }
   ],
   "source": [
    "#set index\n",
    "\n",
    "# df.set_index('day') \n",
    "# this will return a new object without changing the current object\n",
    "# to change the current object use inplace=True\n",
    "df.set_index('day', inplace=True)\n",
    "print(df)"
   ]
  },
  {
   "cell_type": "code",
   "execution_count": 19,
   "metadata": {},
   "outputs": [
    {
     "data": {
      "text/plain": [
       "temperature      28\n",
       "windspeed         2\n",
       "event          Snow\n",
       "Name: 1/3/2017, dtype: object"
      ]
     },
     "execution_count": 19,
     "metadata": {},
     "output_type": "execute_result"
    }
   ],
   "source": [
    "df.loc['1/3/2017']"
   ]
  },
  {
   "cell_type": "code",
   "execution_count": 20,
   "metadata": {},
   "outputs": [
    {
     "name": "stdout",
     "output_type": "stream",
     "text": [
      "        day  temperature  windspeed  event\n",
      "0  1/1/2017           32          6   Rain\n",
      "1  1/2/2017           35          7  Sunny\n",
      "2  1/3/2017           28          2   Snow\n",
      "3  1/4/2017           24          7   Snow\n",
      "4  1/5/2017           32          4   Rain\n",
      "5  1/6/2017           31          2  Sunny\n"
     ]
    }
   ],
   "source": [
    "df.reset_index('day', inplace=True)\n",
    "print(df)"
   ]
  },
  {
   "cell_type": "code",
   "execution_count": 21,
   "metadata": {},
   "outputs": [],
   "source": [
    "df.set_index('windspeed', inplace=True)"
   ]
  },
  {
   "cell_type": "code",
   "execution_count": 22,
   "metadata": {},
   "outputs": [
    {
     "name": "stdout",
     "output_type": "stream",
     "text": [
      "                day  temperature  event\n",
      "windspeed                              \n",
      "6          1/1/2017           32   Rain\n",
      "7          1/2/2017           35  Sunny\n",
      "2          1/3/2017           28   Snow\n",
      "7          1/4/2017           24   Snow\n",
      "4          1/5/2017           32   Rain\n",
      "2          1/6/2017           31  Sunny\n"
     ]
    }
   ],
   "source": [
    "print(df)"
   ]
  },
  {
   "cell_type": "code",
   "execution_count": 29,
   "metadata": {},
   "outputs": [
    {
     "name": "stdout",
     "output_type": "stream",
     "text": [
      "day            1/1/2017\n",
      "temperature          32\n",
      "event              Rain\n",
      "Name: 6, dtype: object\n",
      "day            1/4/2017\n",
      "temperature          24\n",
      "event              Snow\n",
      "Name: 7, dtype: object\n",
      "day            1/6/2017\n",
      "temperature          31\n",
      "event             Sunny\n",
      "Name: 2, dtype: object\n"
     ]
    }
   ],
   "source": [
    "print(df.iloc[0]) # 1st row data\n",
    "print(df.iloc[3]) # 4th row data\n",
    "print(df.iloc[5]) # 6th row data\n"
   ]
  }
 ],
 "metadata": {
  "kernelspec": {
   "display_name": "base",
   "language": "python",
   "name": "python3"
  },
  "language_info": {
   "codemirror_mode": {
    "name": "ipython",
    "version": 3
   },
   "file_extension": ".py",
   "mimetype": "text/x-python",
   "name": "python",
   "nbconvert_exporter": "python",
   "pygments_lexer": "ipython3",
   "version": "3.12.4"
  }
 },
 "nbformat": 4,
 "nbformat_minor": 2
}
