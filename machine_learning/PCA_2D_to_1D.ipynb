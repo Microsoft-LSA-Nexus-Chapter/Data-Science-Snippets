{
  "nbformat": 4,
  "nbformat_minor": 0,
  "metadata": {
    "colab": {
      "provenance": []
    },
    "kernelspec": {
      "name": "python3",
      "display_name": "Python 3"
    },
    "language_info": {
      "name": "python"
    }
  },
  "cells": [
    {
      "cell_type": "markdown",
      "source": [
        "# **Converting a 2D dataset to 1D Data using PCA (Principal Component Analysis**\n",
        "### Project By: Aditya Ghosh\n",
        "[Linkedin](https://www.linkedin.com/in/adityaghosh2992/) [Github](https://github.com/aditya-ghosh2992)\n",
        "\n"
      ],
      "metadata": {
        "id": "Xinx-ztxTcoT"
      }
    },
    {
      "cell_type": "code",
      "execution_count": 1,
      "metadata": {
        "id": "oSyhjG2Xpf0x"
      },
      "outputs": [],
      "source": [
        "import numpy as np\n",
        "import matplotlib.pyplot as plt\n"
      ]
    },
    {
      "cell_type": "code",
      "source": [
        "#step 1: Generate 1 2D data\n",
        "np.random.seed(0)\n",
        "mean = [0,0]\n",
        "cov = [[1, 0.8], [0.8, 1]]\n",
        "data = np.random.multivariate_normal(mean, cov, 100)\n",
        "plt.scatter(data[:,0], data[:,1])\n",
        "plt.show"
      ],
      "metadata": {
        "colab": {
          "base_uri": "https://localhost:8080/",
          "height": 599
        },
        "id": "WnFVT5wwqDbY",
        "outputId": "ba76df6f-ae32-4ec6-d7bc-15ded126203d"
      },
      "execution_count": 2,
      "outputs": [
        {
          "output_type": "execute_result",
          "data": {
            "text/plain": [
              "<function matplotlib.pyplot.show(close=None, block=None)>"
            ],
            "text/html": [
              "<div style=\"max-width:800px; border: 1px solid var(--colab-border-color);\"><style>\n",
              "      pre.function-repr-contents {\n",
              "        overflow-x: auto;\n",
              "        padding: 8px 12px;\n",
              "        max-height: 500px;\n",
              "      }\n",
              "\n",
              "      pre.function-repr-contents.function-repr-contents-collapsed {\n",
              "        cursor: pointer;\n",
              "        max-height: 100px;\n",
              "      }\n",
              "    </style>\n",
              "    <pre style=\"white-space: initial; background:\n",
              "         var(--colab-secondary-surface-color); padding: 8px 12px;\n",
              "         border-bottom: 1px solid var(--colab-border-color);\"><b>matplotlib.pyplot.show</b><br/>def show(*args, **kwargs)</pre><pre class=\"function-repr-contents function-repr-contents-collapsed\" style=\"\"><a class=\"filepath\" style=\"display:none\" href=\"#\">/usr/local/lib/python3.10/dist-packages/matplotlib/pyplot.py</a>Display all open figures.\n",
              "\n",
              "Parameters\n",
              "----------\n",
              "block : bool, optional\n",
              "    Whether to wait for all figures to be closed before returning.\n",
              "\n",
              "    If `True` block and run the GUI main loop until all figure windows\n",
              "    are closed.\n",
              "\n",
              "    If `False` ensure that all figure windows are displayed and return\n",
              "    immediately.  In this case, you are responsible for ensuring\n",
              "    that the event loop is running to have responsive figures.\n",
              "\n",
              "    Defaults to True in non-interactive mode and to False in interactive\n",
              "    mode (see `.pyplot.isinteractive`).\n",
              "\n",
              "See Also\n",
              "--------\n",
              "ion : Enable interactive mode, which shows / updates the figure after\n",
              "      every plotting command, so that calling ``show()`` is not necessary.\n",
              "ioff : Disable interactive mode.\n",
              "savefig : Save the figure to an image file instead of showing it on screen.\n",
              "\n",
              "Notes\n",
              "-----\n",
              "**Saving figures to file and showing a window at the same time**\n",
              "\n",
              "If you want an image file as well as a user interface window, use\n",
              "`.pyplot.savefig` before `.pyplot.show`. At the end of (a blocking)\n",
              "``show()`` the figure is closed and thus unregistered from pyplot. Calling\n",
              "`.pyplot.savefig` afterwards would save a new and thus empty figure. This\n",
              "limitation of command order does not apply if the show is non-blocking or\n",
              "if you keep a reference to the figure and use `.Figure.savefig`.\n",
              "\n",
              "**Auto-show in jupyter notebooks**\n",
              "\n",
              "The jupyter backends (activated via ``%matplotlib inline``,\n",
              "``%matplotlib notebook``, or ``%matplotlib widget``), call ``show()`` at\n",
              "the end of every cell by default. Thus, you usually don&#x27;t have to call it\n",
              "explicitly there.</pre>\n",
              "      <script>\n",
              "      if (google.colab.kernel.accessAllowed && google.colab.files && google.colab.files.view) {\n",
              "        for (const element of document.querySelectorAll('.filepath')) {\n",
              "          element.style.display = 'block'\n",
              "          element.onclick = (event) => {\n",
              "            event.preventDefault();\n",
              "            event.stopPropagation();\n",
              "            google.colab.files.view(element.textContent, 482);\n",
              "          };\n",
              "        }\n",
              "      }\n",
              "      for (const element of document.querySelectorAll('.function-repr-contents')) {\n",
              "        element.onclick = (event) => {\n",
              "          event.preventDefault();\n",
              "          event.stopPropagation();\n",
              "          element.classList.toggle('function-repr-contents-collapsed');\n",
              "        };\n",
              "      }\n",
              "      </script>\n",
              "      </div>"
            ]
          },
          "metadata": {},
          "execution_count": 2
        },
        {
          "output_type": "display_data",
          "data": {
            "text/plain": [
              "<Figure size 640x480 with 1 Axes>"
            ],
            "image/png": "[encoded data removed]"
          },
          "metadata": {}
        }
      ]
    },
    {
      "cell_type": "code",
      "source": [
        "# Step 2: standardize the dataset\n",
        "data_mean = np.mean(data,axis=0)\n",
        "data_centered = data - data_mean"
      ],
      "metadata": {
        "id": "_jv02U9mryPr"
      },
      "execution_count": 3,
      "outputs": []
    },
    {
      "cell_type": "code",
      "source": [
        "# step 3: compute the covariance matrix\n",
        "con_matrix = np.cov(data_centered.T)\n",
        "print(con_matrix)"
      ],
      "metadata": {
        "colab": {
          "base_uri": "https://localhost:8080/"
        },
        "id": "lI09UEwTsYxW",
        "outputId": "fb2f04d0-54af-4646-8cc4-8cb53cea172e"
      },
      "execution_count": 4,
      "outputs": [
        {
          "output_type": "stream",
          "name": "stdout",
          "text": [
            "[[1.03857986 0.84522228]\n",
            " [0.84522228 1.06878628]]\n"
          ]
        }
      ]
    },
    {
      "cell_type": "code",
      "source": [
        "#step4 : calculate eignvalue and eignvectors\n",
        "eignvalues, eignvectors = np.linalg.eig(con_matrix)\n",
        "print(eignvalues)\n",
        "print(eignvectors)"
      ],
      "metadata": {
        "colab": {
          "base_uri": "https://localhost:8080/"
        },
        "id": "dhUqqV-gs6pB",
        "outputId": "d5e523a2-9903-446d-fb8f-a345725b480e"
      },
      "execution_count": 5,
      "outputs": [
        {
          "output_type": "stream",
          "name": "stdout",
          "text": [
            "[0.20832587 1.89904028]\n",
            "[[-0.71339543 -0.7007617 ]\n",
            " [ 0.7007617  -0.71339543]]\n"
          ]
        }
      ]
    },
    {
      "cell_type": "code",
      "source": [
        "# step 5 : sort eignvalues and eignvector\n",
        "sorted_indices = np.argsort(eignvalues)[::-1] # sort in desecending oreder\n",
        "sorted_eignvalues = eignvalues[sorted_indices]\n",
        "sorted_eignvectors = eignvectors[:,sorted_indices]\n",
        "print(sorted_eignvalues)\n",
        "print(sorted_eignvectors)"
      ],
      "metadata": {
        "colab": {
          "base_uri": "https://localhost:8080/"
        },
        "id": "MTR1mYfmtza4",
        "outputId": "b3418b30-eabf-4660-ebfc-111f587c77f0"
      },
      "execution_count": 6,
      "outputs": [
        {
          "output_type": "stream",
          "name": "stdout",
          "text": [
            "[1.89904028 0.20832587]\n",
            "[[-0.7007617  -0.71339543]\n",
            " [-0.71339543  0.7007617 ]]\n"
          ]
        }
      ]
    },
    {
      "cell_type": "code",
      "source": [
        "#step 6: choose the top K eignvector(1D)\n",
        "K=1\n",
        "top_k_eignvectors = sorted_eignvectors[:,:K]\n",
        "print(top_k_eignvectors)"
      ],
      "metadata": {
        "colab": {
          "base_uri": "https://localhost:8080/"
        },
        "id": "2tAKK-TYvE7i",
        "outputId": "319b50f6-6dc5-4446-d2bd-61b7667a15ae"
      },
      "execution_count": 7,
      "outputs": [
        {
          "output_type": "stream",
          "name": "stdout",
          "text": [
            "[[-0.7007617 ]\n",
            " [-0.71339543]]\n"
          ]
        }
      ]
    },
    {
      "cell_type": "code",
      "source": [
        "# step 7: project the data onto PC\n",
        "data_1d = np.dot(data_centered, top_k_eignvectors)\n",
        "print(data_1d)"
      ],
      "metadata": {
        "colab": {
          "base_uri": "https://localhost:8080/"
        },
        "id": "5nM8qLhhv-FZ",
        "outputId": "7908d331-ee9a-412f-b54b-af2ce94e4531"
      },
      "execution_count": 8,
      "outputs": [
        {
          "output_type": "stream",
          "name": "stdout",
          "text": [
            "[[ 2.36688669]\n",
            " [ 1.30596497]\n",
            " [ 2.51125158]\n",
            " [ 1.27708643]\n",
            " [-0.13826226]\n",
            " [ 0.18929224]\n",
            " [ 1.02236763]\n",
            " [ 0.59600341]\n",
            " [ 2.0071123 ]\n",
            " [ 0.4252751 ]\n",
            " [-3.42581465]\n",
            " [ 1.16453686]\n",
            " [ 3.05273948]\n",
            " [ 0.0639921 ]\n",
            " [ 2.052342  ]\n",
            " [ 0.20821991]\n",
            " [-1.18127326]\n",
            " [-0.46552391]\n",
            " [ 1.64759386]\n",
            " [-0.51656975]\n",
            " [-1.39919689]\n",
            " [-2.29504871]\n",
            " [-0.68013747]\n",
            " [-1.68198523]\n",
            " [-2.16247962]\n",
            " [-1.20103702]\n",
            " [-0.67871764]\n",
            " [-0.03766493]\n",
            " [ 0.08988548]\n",
            " [-0.847694  ]\n",
            " [-0.89887267]\n",
            " [-1.08215472]\n",
            " [ 0.24149305]\n",
            " [-2.18704696]\n",
            " [-1.21557221]\n",
            " [ 0.97947853]\n",
            " [ 1.53539396]\n",
            " [ 0.54436756]\n",
            " [-1.16408254]\n",
            " [-0.41634406]\n",
            " [-1.56489386]\n",
            " [ 0.63271952]\n",
            " [ 1.99090107]\n",
            " [ 1.5840097 ]\n",
            " [-1.43886551]\n",
            " [-0.54392565]\n",
            " [ 0.27737249]\n",
            " [ 0.47712899]\n",
            " [ 0.00880714]\n",
            " [ 0.17051288]\n",
            " [ 2.53365068]\n",
            " [-1.70648411]\n",
            " [-1.5797572 ]\n",
            " [-0.55006454]\n",
            " [ 2.57573489]\n",
            " [ 2.50372875]\n",
            " [-1.16118513]\n",
            " [-0.36090059]\n",
            " [ 1.27329568]\n",
            " [ 0.82201195]\n",
            " [ 0.51125518]\n",
            " [ 0.39666868]\n",
            " [-0.92937034]\n",
            " [-0.58932928]\n",
            " [ 0.90216944]\n",
            " [-1.03320873]\n",
            " [-0.90294803]\n",
            " [-0.8538902 ]\n",
            " [ 0.7762343 ]\n",
            " [ 0.53749972]\n",
            " [-2.00055237]\n",
            " [ 0.22292523]\n",
            " [ 3.19527856]\n",
            " [-1.22723805]\n",
            " [-1.76170528]\n",
            " [-0.09654187]\n",
            " [-0.99399661]\n",
            " [-0.12757673]\n",
            " [ 1.51765009]\n",
            " [-1.53582493]\n",
            " [-0.67400749]\n",
            " [ 1.2752363 ]\n",
            " [-1.64554678]\n",
            " [-1.33384936]\n",
            " [ 1.59443463]\n",
            " [ 1.23599433]\n",
            " [ 1.15396919]\n",
            " [-1.38839484]\n",
            " [-1.07323409]\n",
            " [-0.6093512 ]\n",
            " [-0.46756537]\n",
            " [-0.85273222]\n",
            " [ 0.84705821]\n",
            " [-1.47997978]\n",
            " [-0.9964976 ]\n",
            " [-1.73369202]\n",
            " [-0.04617941]\n",
            " [ 0.70456188]\n",
            " [ 1.03398959]\n",
            " [ 2.8986854 ]]\n"
          ]
        }
      ]
    },
    {
      "cell_type": "code",
      "source": [
        "# step 8 : Plot the original data and projection\n",
        "plt.figure(figsize=(12,6))\n",
        "plt.subplot(1,2,1)\n",
        "plt.scatter(data[:,0], data[:,1],alpha=0.5)\n",
        "plt.title('Original Data')\n",
        "plt.xlabel('X-axis')\n",
        "plt.ylabel('Y-axis')\n",
        "plt.axis('equal')\n",
        "\n",
        "plt.subplot(1,2,2)\n",
        "plt.scatter(data_1d[:,0], np.zeros_like(data_1d[:,0]), alpha=0.5,color='orange')\n",
        "plt.title('Projected Data')\n",
        "plt.xlabel('PC1')\n",
        "plt.ylabel([])\n",
        "plt.axhline(0, color= 'gray', lw=0.5)\n",
        "\n",
        "plt.tight_layout()\n",
        "plt.show()\n"
      ],
      "metadata": {
        "colab": {
          "base_uri": "https://localhost:8080/",
          "height": 607
        },
        "id": "fn31bu2bwXAv",
        "outputId": "94501ebf-0244-442a-a269-e1a9aaa8fd85"
      },
      "execution_count": 9,
      "outputs": [
        {
          "output_type": "display_data",
          "data": {
            "text/plain": [
              "<Figure size 1200x600 with 2 Axes>"
            ],
            "image/png": "[encoded data removed]"
          },
          "metadata": {}
        }
      ]
    }
  ]
}